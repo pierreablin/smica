{
  "cells": [
    {
      "cell_type": "code",
      "execution_count": null,
      "metadata": {
        "collapsed": false
      },
      "outputs": [],
      "source": [
        "%matplotlib inline"
      ]
    },
    {
      "cell_type": "markdown",
      "metadata": {},
      "source": [
        "\n# XXX\n"
      ]
    },
    {
      "cell_type": "code",
      "execution_count": null,
      "metadata": {
        "collapsed": false
      },
      "outputs": [],
      "source": [
        "import numpy as np\nimport matplotlib.pyplot as plt\n\nimport mne\nfrom mne.preprocessing import ICA as ICA_mne\nfrom mne.datasets import sample\n\nfrom smica import ICA, transfer_to_ica, SOBI_mne, JDIAG_mne\n\nrc = {\"pdf.fonttype\": 42, 'text.usetex': True, 'font.size': 14,\n      'xtick.labelsize': 12, 'ytick.labelsize': 12, 'text.latex.preview': True}\n\nplt.rcParams.update(rc)\n\ncolors = ['indianred', 'cornflowerblue', 'k']\n\n\ndef plot_powers(powers, noise_sources, muscle_source, ax, title):\n    cols = []\n    for i in range(n_components):\n        if i in noise_sources:\n            cols.append(colors[2])\n        elif i in muscle_source:\n            cols.append(colors[1])\n        else:\n            cols.append(colors[0])\n    for p, col in zip(powers.T, cols):\n        ax.semilogy(freqs[1:], p, color=col)\n    ax.semilogy([], [], color=colors[0], label='Brain sources')\n    ax.semilogy([], [], color=colors[1], label='Muscle source')\n    ax.semilogy([], [], color=colors[2], label='Room noise')\n    x_ = ax.set_xlabel('Frequency (Hz.)')\n    y_ = ax.set_ylabel('Power')\n    t_ = ax.set_title(title)\n    ax.set_xlim([0, freqs.max()])\n    ax.grid()\n    plt.savefig('figures/%s.pdf' % title, bbox_extr_artists=[x_, y_, t_],\n                bbox_inches='tight')\n    # ax.legend(loc='upper center', ncol=2)\n\n\n# fetch data\ndata_path = sample.data_path()\nraw_fname = data_path + '/MEG/sample/sample_audvis_raw.fif'\nevent_fname = data_path + '/MEG/sample/sample_audvis_filt-0-40_raw-eve.fif'\nraw = mne.io.read_raw_fif(raw_fname, preload=True)\npicks = mne.pick_types(raw.info, meg='mag', eeg=False, eog=False,\n                       stim=False, exclude='bads')\n\n# Compute ICA on raw: chose the frequency decomposition. Here, uniform between\n# 2 - 35 Hz.\nn_bins = 40\nn_components = 10\nfreqs = np.linspace(1, 60, n_bins + 1)\n\njdiag = JDIAG_mne(n_components=n_components, freqs=freqs, rng=0)\njdiag.fit(raw, picks=picks, verbose=True, tol=1e-7, max_iter=10000)\n\n# Plot the powers\n\nnoise_sources = [0, 1, 3]\nmuscle_source = [2]\nf, ax = plt.subplots(figsize=(4, 2))\nplot_powers(jdiag.powers, noise_sources, muscle_source, ax, 'jdiag')\nplt.show()\n\n\nsmica = ICA(n_components=n_components, freqs=freqs, rng=0)\nsmica.fit(raw, picks=picks, verbose=100, tol=1e-10, em_it=100000)\n\n# Plot powers\n\nnoise_sources = [6, 8, 9]\nmuscle_source = [7]\nf, ax = plt.subplots(figsize=(4, 2))\nplot_powers(smica.powers, noise_sources, muscle_source, ax, 'smica')\nplt.show()\n\n\nica = ICA_mne(n_components=n_components, method='picard', random_state=0)\nica.fit(raw, picks=picks)\n\nica_mne = transfer_to_ica(raw, picks, freqs,\n                          ica.get_sources(raw).get_data(),\n                          ica.mixing_matrix_)\n\nnoise_sources = [1, 2]\nmuscle_source = [4]\nf, ax = plt.subplots(figsize=(4, 2))\nplot_powers(ica_mne.powers, noise_sources, muscle_source, ax, 'infomax')\nplt.show()\n\n\nsobi = SOBI_mne(p=2000, n_components=n_components, freqs=freqs, rng=0)\nsobi.fit(raw, picks=picks, verbose=True, tol=1e-7, max_iter=10000)\n\n# Plot the powers\n\nnoise_sources = [1, 8]\nmuscle_source = [3]\nf, ax = plt.subplots(figsize=(4, 2))\nplot_powers(sobi.powers, noise_sources, muscle_source, ax, 'sobi')\nplt.show()"
      ]
    }
  ],
  "metadata": {
    "kernelspec": {
      "display_name": "Python 3",
      "language": "python",
      "name": "python3"
    },
    "language_info": {
      "codemirror_mode": {
        "name": "ipython",
        "version": 3
      },
      "file_extension": ".py",
      "mimetype": "text/x-python",
      "name": "python",
      "nbconvert_exporter": "python",
      "pygments_lexer": "ipython3",
      "version": "3.8.2"
    }
  },
  "nbformat": 4,
  "nbformat_minor": 0
}