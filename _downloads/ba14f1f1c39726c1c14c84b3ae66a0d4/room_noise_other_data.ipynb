{
  "cells": [
    {
      "cell_type": "code",
      "execution_count": null,
      "metadata": {
        "collapsed": false
      },
      "outputs": [],
      "source": [
        "%matplotlib inline"
      ]
    },
    {
      "cell_type": "markdown",
      "metadata": {},
      "source": [
        "\n# XXX\n"
      ]
    },
    {
      "cell_type": "code",
      "execution_count": null,
      "metadata": {
        "collapsed": false
      },
      "outputs": [],
      "source": [
        "import numpy as np\nfrom os import path as op\nimport matplotlib.pyplot as plt\n\nimport mne\nfrom mne.preprocessing import ICA as ICA_mne\nfrom mne.datasets import sample\n\nfrom picard import picard\n\nfrom smica import ICA, transfer_to_ica, JDIAG_mne, dipolarity\n\n# raw_fname = os.path.join(multimodal.data_path(), 'multimodal_raw.fif')\nn_bins = 40\nn_components = 40\nfreqs = np.linspace(1, 60, n_bins + 1)\n\ndata_path = sample.data_path()\nfname_bem = op.join(data_path, 'subjects', 'sample', 'bem',\n                    'sample-5120-bem-sol.fif')\nraw_fname = data_path + '/MEG/sample/sample_audvis_raw.fif'\nrc = {\"pdf.fonttype\": 42, 'text.usetex': False, 'font.size': 14,\n      'xtick.labelsize': 12, 'ytick.labelsize': 12, 'text.latex.preview': True}\n\nplt.rcParams.update(rc)\n\ncolors = ['indianred', 'cornflowerblue', 'k']\n\n\ndef plot_powers(powers, noise_sources, muscle_source, ax, title):\n    cols = []\n    for i in range(n_components):\n        if i in noise_sources:\n            cols.append(colors[2])\n        elif i in muscle_source:\n            cols.append(colors[1])\n        else:\n            cols.append(colors[0])\n    for p, col in zip(powers.T, cols):\n        ax.semilogy(freqs[1:], p, color=col)\n    ax.semilogy([], [], color=colors[0], label='Brain sources')\n    ax.semilogy([], [], color=colors[1], label='Muscle source')\n    ax.semilogy([], [], color=colors[2], label='Room noise')\n    x_ = ax.set_xlabel('Frequency (Hz.)')\n    y_ = ax.set_ylabel('Power')\n    t_ = ax.set_title(title)\n    ax.set_xlim([0, freqs.max()])\n    ax.grid()\n    plt.savefig('figures/%s.pdf' % title, bbox_extr_artists=[x_, y_, t_],\n                bbox_inches='tight')\n    # ax.legend(loc='upper center', ncol=2)\n\n\n# fetch data\nraw = mne.io.read_raw_fif(raw_fname, preload=True)\npicks = mne.pick_types(raw.info, meg='mag', eeg=False, eog=False,\n                       stim=False, exclude='bads')\n\n# Compute ICA on raw: chose the frequency decomposition. Here, uniform between\n# 2 - 35 Hz.\n#\njdiag = JDIAG_mne(n_components=n_components, freqs=freqs, rng=0)\njdiag.fit(raw, picks=picks, verbose=True, tol=1e-9, max_iter=1000)\n\n\nsmica = ICA(n_components=n_components, freqs=freqs, rng=0)\nsmica.fit(raw, picks=picks, verbose=100, tol=1e-10, em_it=100000)\n\n# Plot powers\n\n# noise_sources = [6, 8, 9]\n# muscle_source = [7]\n# f, ax = plt.subplots(figsize=(4, 2))\n# plot_powers(smica.powers, noise_sources, muscle_source, ax, 'smica')\n# plt.show()\n# #\n# #\n# sobi = SOBI_mne(100, n_components, freqs, rng=0)\n# sobi.fit(raw, picks=picks)\nraw.filter(2, 70)\nica = ICA_mne(n_components=n_components, method='fastica', random_state=0)\nica.fit(raw, picks=picks)\n\nica_mne = transfer_to_ica(raw, picks, freqs,\n                          ica.get_sources(raw).get_data(),\n                          ica.get_components())\n\n\nbrain_sources = smica.compute_sources()\nK, W, _ = picard(brain_sources, ortho=False, verbose=True, random_state=0,\n                 max_iter=1000)\npicard_mix = np.linalg.pinv(W @ K)\nA_wiener = smica.A.dot(picard_mix)\ngof_wiener = dipolarity(A_wiener, raw, picks, fname_bem, n_jobs=3)[0]\n\nbrain_sources = smica.compute_sources(method='pinv')\nK, W, _ = picard(brain_sources, ortho=False, verbose=True, random_state=0,\n                 max_iter=1000)\npicard_mix = np.linalg.pinv(W @ K)\nA_pinv = smica.A.dot(picard_mix)\ngof_pinv = dipolarity(A_pinv, raw, picks, fname_bem, n_jobs=3)[0]\n\nbrain_sources = jdiag.compute_sources(raw.get_data(picks=picks), method='pinv')\nK, W, _ = picard(brain_sources, ortho=False, verbose=True, random_state=0,\n                 max_iter=1000)\npicard_mix = np.linalg.pinv(W @ K)\nA_pca = jdiag.A.dot(picard_mix)\ngof_pca = dipolarity(A_pca, raw, picks, fname_bem, n_jobs=3)[0]\n\ngof_smica = dipolarity(smica.A, raw, picks, fname_bem, n_jobs=3)[0]\ngof_jdiag = dipolarity(jdiag.A, raw, picks, fname_bem, n_jobs=3)[0]\n# gof_sobi = dipolarity(sobi.A, raw, picks, fname_bem, n_jobs=3)[0]"
      ]
    }
  ],
  "metadata": {
    "kernelspec": {
      "display_name": "Python 3",
      "language": "python",
      "name": "python3"
    },
    "language_info": {
      "codemirror_mode": {
        "name": "ipython",
        "version": 3
      },
      "file_extension": ".py",
      "mimetype": "text/x-python",
      "name": "python",
      "nbconvert_exporter": "python",
      "pygments_lexer": "ipython3",
      "version": "3.8.2"
    }
  },
  "nbformat": 4,
  "nbformat_minor": 0
}