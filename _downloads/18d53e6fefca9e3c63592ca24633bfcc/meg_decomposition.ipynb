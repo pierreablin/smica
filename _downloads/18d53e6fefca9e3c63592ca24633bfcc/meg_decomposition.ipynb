{
  "cells": [
    {
      "cell_type": "code",
      "execution_count": null,
      "metadata": {
        "collapsed": false
      },
      "outputs": [],
      "source": [
        "%matplotlib inline"
      ]
    },
    {
      "cell_type": "markdown",
      "metadata": {},
      "source": [
        "\n# XXX\n"
      ]
    },
    {
      "cell_type": "code",
      "execution_count": null,
      "metadata": {
        "collapsed": false
      },
      "outputs": [],
      "source": [
        "import numpy as np\nfrom smica import ICA, JDIAG_mne, SOBI_mne, transfer_to_ica\nimport mne\nfrom mne.datasets import sample\nfrom mne.preprocessing import ICA as ICA_mne\n\nfrom joblib import Memory\n\nlocation = './cachedir'\nmemory = Memory(location, verbose=0)\nEPS = 1e-12\n\n# fetch data\ndata_path = sample.data_path()\nraw_fname = data_path + '/MEG/sample/sample_audvis_raw.fif'\n\nraw = mne.io.read_raw_fif(raw_fname, preload=True)\n\nraw_room = mne.io.read_raw_fif(data_path + '/MEG/sample/ernoise_raw.fif')\npicks = mne.pick_types(raw.info, meg='mag', eeg=False, eog=False,\n                       stim=False, exclude='bads')\n\n\ndef conf_mat(A, B):\n    _, n = A.shape\n    _, p = B.shape\n    A /= np.linalg.norm(A, axis=0)\n    B /= np.linalg.norm(B, axis=0)\n    return A.T.dot(B)\n\n\ndef matching(corr):\n    corr = np.abs(corr)\n    n_s, _ = corr.shape\n    order = np.arange(n_s)\n    sources = set(range(n_s))\n    free = set(range(n_s))\n    while sources:\n        i, j = np.unravel_index(np.argmax(corr, axis=None), corr.shape)\n        corr[i, j] = - 1\n        if i in sources and j in free:\n            sources.remove(i)\n            free.remove(j)\n            order[i] = j\n    return order\n\n\nn_bins = 40\nfreqs = np.linspace(1, 70, n_bins + 1)\nn_comp = 40\nsmica_room = ICA(10, freqs=freqs, rng=0).fit(raw_room, picks)\njdiag_room = JDIAG_mne(10, freqs=freqs, rng=0).fit(raw_room, picks=picks)\nsmica = ICA(n_comp, freqs=freqs, rng=0).fit(raw, picks=picks)\nto_plot_smica = [37, 38, 39, 20, 4, 3, 19, 8, 12, 2]\nraw.filter(1, 70)\njdiag = JDIAG_mne(n_comp, freqs=freqs, rng=0).fit(raw, picks=picks)\nto_plot_jdiag = [2, 1, 0, 13, 34, 3, 20, 30, 5, 10]\nsobi = SOBI_mne(100, n_comp, freqs).fit(raw, picks=picks)\nto_plot_sobi = [2, 0, 8, 12, 20, 31, 3, 17, 9, 10]\nifmx_ = ICA_mne(n_comp, random_state=0).fit(raw, picks=picks)\nifmx = transfer_to_ica(raw, picks, freqs, ifmx_.get_sources(raw).get_data(),\n                       ifmx_.get_components())\nto_plot_ifmx = [1, 2, 0, 35, 33, 19, 3, 32, 25, 9]\nplot_args = dict(number=True, t_min=2, t_max=4)\n\npow_lims = [(np.min(algo.powers), np.max(algo.powers))\n            for algo in [smica, jdiag, sobi, ifmx]]\ny_lim = 0.0001, 0.21\n\nfor algo, sort, method, name in zip([smica, jdiag, sobi, ifmx],\n                                    [to_plot_smica, to_plot_jdiag,\n                                     to_plot_sobi, to_plot_ifmx],\n                                    ['wiener', 'pinv', 'pinv', 'pinv'],\n                                    ['smica', 'jdiag', 'sobi', 'ifmx']):\n\n    algo.plot_extended(sources=algo.compute_sources(method=method),\n                       sort=sort, save=name, y_lim=y_lim, **plot_args)"
      ]
    }
  ],
  "metadata": {
    "kernelspec": {
      "display_name": "Python 3",
      "language": "python",
      "name": "python3"
    },
    "language_info": {
      "codemirror_mode": {
        "name": "ipython",
        "version": 3
      },
      "file_extension": ".py",
      "mimetype": "text/x-python",
      "name": "python",
      "nbconvert_exporter": "python",
      "pygments_lexer": "ipython3",
      "version": "3.8.2"
    }
  },
  "nbformat": 4,
  "nbformat_minor": 0
}