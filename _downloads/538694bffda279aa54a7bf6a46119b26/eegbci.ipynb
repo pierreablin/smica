{
  "cells": [
    {
      "cell_type": "code",
      "execution_count": null,
      "metadata": {
        "collapsed": false
      },
      "outputs": [],
      "source": [
        "%matplotlib inline"
      ]
    },
    {
      "cell_type": "markdown",
      "metadata": {},
      "source": [
        "\n# XXX\n"
      ]
    },
    {
      "cell_type": "code",
      "execution_count": null,
      "metadata": {
        "collapsed": false
      },
      "outputs": [],
      "source": [
        "import numpy as np\n\nimport matplotlib.pyplot as plt\n\nfrom mne import Epochs, pick_types, events_from_annotations\nfrom mne.io import concatenate_raws, read_raw_edf\nfrom mne.datasets import eegbci\n\nfrom smica import ICA\n\ntmin, tmax = -1., 4.\nsubject = 1\nruns = [6, 10, 14]  # motor imagery: hands vs feet\n\nraw_fnames = eegbci.load_data(subject, runs)\nraw = concatenate_raws([read_raw_edf(f, preload=True) for f in raw_fnames])\n\n# strip channel names of \".\" characters\nraw.rename_channels(lambda x: x.strip('.'))\n\n# Apply band-pass filter\nraw.filter(7., 30., fir_design='firwin', skip_by_annotation='edge')\n\nevents, _ = events_from_annotations(raw)\n\npicks = pick_types(raw.info, meg=False, eeg=True, stim=False, eog=False,\n                   exclude='bads')\n\n\nevent_id = dict(hands=2, feet=3)\nepochs = Epochs(raw, events, event_id, tmin, tmax, proj=True, picks=picks,\n                baseline=None, preload=True)\nlabels = epochs.events[:, -1] - 2\nepochs_data = epochs.get_data()\n\nl_list = []\nfor event_id in [dict(hands=2), dict(feet=3)]:\n    epochs = Epochs(raw, events, event_id, tmin, tmax, proj=True, picks=picks,\n                    baseline=None, preload=True)\n    n_components = 20\n    freqs = np.linspace(7, 30, 31)\n    ica = ICA(n_components=n_components, freqs=freqs, rng=0)\n    ica.fit(epochs, max_iter=5000, verbose=100)\n    l_list.append([ica.compute_loss(x)\n                   for x in epochs_data])\nplt.figure()\nlikelihoods = np.array(l_list)\nfor i, label in enumerate(['hand', 'feet']):\n    plt.scatter(*(likelihoods[j, labels == i] for j in [0, 1]), label=label)\n\nplt.xlabel('negative loglik of model hand')\nplt.ylabel('negative loglik of model feet')\nl_min = np.min(likelihoods)\nl_max = np.max(likelihoods)\nt = np.linspace(l_min, l_max)\nplt.title(subject)\nplt.plot(t, t, color='k', label='y=x')\nplt.legend()\nplt.show()"
      ]
    }
  ],
  "metadata": {
    "kernelspec": {
      "display_name": "Python 3",
      "language": "python",
      "name": "python3"
    },
    "language_info": {
      "codemirror_mode": {
        "name": "ipython",
        "version": 3
      },
      "file_extension": ".py",
      "mimetype": "text/x-python",
      "name": "python",
      "nbconvert_exporter": "python",
      "pygments_lexer": "ipython3",
      "version": "3.8.2"
    }
  },
  "nbformat": 4,
  "nbformat_minor": 0
}