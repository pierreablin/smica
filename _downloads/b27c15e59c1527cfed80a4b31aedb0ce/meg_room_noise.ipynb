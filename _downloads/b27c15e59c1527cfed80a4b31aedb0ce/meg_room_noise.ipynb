{
  "cells": [
    {
      "cell_type": "code",
      "execution_count": null,
      "metadata": {
        "collapsed": false
      },
      "outputs": [],
      "source": [
        "%matplotlib inline"
      ]
    },
    {
      "cell_type": "markdown",
      "metadata": {},
      "source": [
        "\n# XXX\n"
      ]
    },
    {
      "cell_type": "code",
      "execution_count": null,
      "metadata": {
        "collapsed": false
      },
      "outputs": [],
      "source": [
        "import numpy as np\nimport matplotlib.pyplot as plt\nimport mne\nfrom mne.preprocessing import ICA as ICA_mne\nfrom mne.datasets import sample\n\nfrom sklearn.decomposition import fastica\nfrom picard import picard\n\nfrom smica import ICA, transfer_to_ica, JDIAG_mne, dipolarity\n\nrc = {\n    \"pdf.fonttype\": 42,\n    \"text.usetex\": False,\n    \"font.size\": 14,\n    \"xtick.labelsize\": 12,\n    \"ytick.labelsize\": 12,\n    \"text.latex.preview\": True,\n}\n\nplt.rcParams.update(rc)\n\ncolors = [\"indianred\", \"cornflowerblue\", \"k\"]\n\n\ndef plot_powers(powers, noise_sources, muscle_source, ax, title):\n    cols = []\n    for i in range(n_components):\n        if i in noise_sources:\n            cols.append(colors[2])\n        elif i in muscle_source:\n            cols.append(colors[1])\n        else:\n            cols.append(colors[0])\n    for p, col in zip(powers.T, cols):\n        ax.semilogy(freqs[1:], p, color=col)\n    ax.semilogy([], [], color=colors[0], label=\"Brain sources\")\n    ax.semilogy([], [], color=colors[1], label=\"Muscle source\")\n    ax.semilogy([], [], color=colors[2], label=\"Room noise\")\n    x_ = ax.set_xlabel(\"Frequency (Hz.)\")\n    y_ = ax.set_ylabel(\"Power\")\n    t_ = ax.set_title(title)\n    ax.set_xlim([0, freqs.max()])\n    ax.grid()\n    plt.savefig(\n        \"figures/%s.pdf\" % title,\n        bbox_extr_artists=[x_, y_, t_],\n        bbox_inches=\"tight\",\n    )\n    # ax.legend(loc='upper center', ncol=2)\n\n\n# fetch data\ndata_path = sample.data_path()\nraw_fname = data_path + \"/MEG/sample/sample_audvis_raw.fif\"\nraw = mne.io.read_raw_fif(raw_fname, preload=True)\npicks = mne.pick_types(\n    raw.info, meg=False, eeg=True, eog=False, stim=False, exclude=\"bads\"\n)\n\nn_bins = 40\nn_components = 20\nfreqs = np.linspace(1, 60, n_bins + 1)\n#\njdiag = JDIAG_mne(n_components=n_components, freqs=freqs, rng=0)\njdiag.fit(raw, picks=picks, verbose=True, tol=1e-9, max_iter=1000)\n\n# jdiag2 = JDIAG_mne(n_components=n_components, freqs=freqs, rng=0)\n# jdiag2.fit(raw, pca='other', picks=picks, verbose=True, tol=1e-9,\n#            max_iter=1000)\n\n\nsmica = ICA(n_components=n_components, freqs=freqs, rng=0)\nsmica.fit(raw, picks=picks, verbose=100, tol=1e-10, em_it=100000, corr=True)\n\n# Plot powers\n\n# noise_sources = [6, 8, 9]\n# muscle_source = [7]\n# f, ax = plt.subplots(figsize=(4, 2))\n# plot_powers(smica.powers, noise_sources, muscle_source, ax, 'smica')\n# plt.show()\n# #\n# #\nraw.filter(2, 70)\nica = ICA_mne(n_components=n_components, method=\"fastica\", random_state=0)\nica.fit(raw, picks=picks)\n\nica_mne = transfer_to_ica(\n    raw, picks, freqs, ica.get_sources(raw).get_data(), ica.get_components()\n)\n\nsmica.plot_clusters(16)\n\nsource_clusters = [0, 2]\nidx = np.where(np.logical_or(smica.labels == 0, smica.labels == 2))[0]\nbrain_sources = smica.compute_sources()[idx]\nK, W, _ = picard(brain_sources)\npicard_mix = np.linalg.pinv(W @ K)\nbrain_A = smica.A[:, idx]\nfitted_A = brain_A.dot(picard_mix)\nAsi = smica.A.copy()\nAsi[:, idx] = fitted_A\n\n\nbrain_sources = smica.compute_sources()\nK, W, _ = picard(brain_sources)\npicard_mix = np.linalg.pinv(W @ K)\nfitted_A = smica.A.dot(picard_mix)\nbrain_sources = smica.compute_sources(raw.get_data(picks=picks), method=\"pinv\")\nK, W, _ = picard(brain_sources)\npicard_mix = np.linalg.pinv(W @ K)\nfitted_A__ = smica.A.dot(picard_mix)\n\n\nbrain_sources = ica_mne.compute_sources(\n    raw.get_data(picks=picks), method=\"pinv\"\n)\nK, W, _ = picard(brain_sources)\npicard_mix = np.linalg.pinv(W @ K)\nfitted_A_ = smica.A.dot(picard_mix)\n\n\nbrain_sources = ica_mne.compute_sources(\n    raw.get_data(picks=picks), method=\"pinv\"\n)\nK, W, _ = fastica(brain_sources.T)\npicard_mix = np.linalg.pinv(W @ K)\nfastica_ = smica.A.dot(picard_mix)\n\n\ngofs = dipolarity(smica.A, raw, picks)[0]\ngofj = dipolarity(jdiag.A, raw, picks)[0]\ngofi = dipolarity(ica_mne.A, raw, picks)[0]\ngofsi = dipolarity(Asi, raw, picks)[0]\ngofp = dipolarity(fitted_A_, raw, picks)[0]\ngof_ss = dipolarity(fitted_A__, raw, picks)[0]\ngoff = dipolarity(fastica_, raw, picks)[0]\ngof_subspace = dipolarity(fitted_A, raw, picks)[0]\nplt.figure()\n# plt.plot(np.sort(gofs), label='smica')\nplt.plot(np.sort(gofj), label=\"jdiag\")\nplt.plot(np.sort(gofp), label=\"infomax\")\n# plt.plot(np.sort(gofsi), label='smica + infomax')\nplt.plot(np.sort(gof_subspace), label=\"infomax on smica wiener\")\nplt.plot(np.sort(gof_ss), label=\"infomax on smica pinv\")\n# plt.plot(np.sort(goff), label='fastica')\nplt.xlabel(\"source\")\nplt.ylabel(\"dipolarity\")\nplt.legend()"
      ]
    }
  ],
  "metadata": {
    "kernelspec": {
      "display_name": "Python 3",
      "language": "python",
      "name": "python3"
    },
    "language_info": {
      "codemirror_mode": {
        "name": "ipython",
        "version": 3
      },
      "file_extension": ".py",
      "mimetype": "text/x-python",
      "name": "python",
      "nbconvert_exporter": "python",
      "pygments_lexer": "ipython3",
      "version": "3.8.2"
    }
  },
  "nbformat": 4,
  "nbformat_minor": 0
}