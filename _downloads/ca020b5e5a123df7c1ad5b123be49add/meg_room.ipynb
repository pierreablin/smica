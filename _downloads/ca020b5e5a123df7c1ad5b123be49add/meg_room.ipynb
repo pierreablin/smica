{
  "cells": [
    {
      "cell_type": "code",
      "execution_count": null,
      "metadata": {
        "collapsed": false
      },
      "outputs": [],
      "source": [
        "%matplotlib inline"
      ]
    },
    {
      "cell_type": "markdown",
      "metadata": {},
      "source": [
        "\n# XXX\n"
      ]
    },
    {
      "cell_type": "code",
      "execution_count": null,
      "metadata": {
        "collapsed": false
      },
      "outputs": [],
      "source": [
        "import numpy as np\nimport matplotlib.pyplot as plt\nimport mne\nfrom mne.datasets import sample\nfrom smica import ICA, JDIAG_mne, SOBI_mne\n\n# fetch data\ndata_path = sample.data_path()\nraw_fname = data_path + '/MEG/sample/ernoise_raw.fif'\nraw = mne.io.read_raw_fif(raw_fname, preload=True)\npicks = mne.pick_types(raw.info, meg='mag', eeg=False, eog=False,\n                       stim=False, exclude='bads')\n\n# Compute ICA on raw: chose the frequency decomposition. Here, uniform between\n# 2 - 35 Hz.\nn_bins = 40\nn_components = 10\nfreqs = np.linspace(1, 70, n_bins + 1)\nsmica = ICA(n_components=n_components, freqs=freqs, rng=0)\nsmica.fit(raw, picks=picks, verbose=100, tol=1e-15, em_it=100000)\n\njdiag = JDIAG_mne(n_components=n_components, freqs=freqs, rng=0)\njdiag.fit(raw, picks=picks, verbose=True, tol=1e-7, max_iter=10000)\nraw.filter(1, 70)\nsobi = SOBI_mne(p=2000, n_components=n_components, freqs=freqs, rng=0)\nsobi.fit(raw, picks=picks, verbose=True, tol=1e-7, max_iter=2000)\nraw_fname = data_path + '/MEG/sample/sample_audvis_raw.fif'\nraw = mne.io.read_raw_fif(raw_fname, preload=True)\npicks = mne.pick_types(raw.info, meg='mag', eeg=False, eog=False,\n                       stim=False, exclude='bads')\n\nsmica_meg = ICA(n_components=n_components, freqs=freqs, rng=0)\nsmica_meg.fit(raw, picks=picks, verbose=100, tol=1e-18, em_it=100000)\njdiag_meg = JDIAG_mne(n_components=n_components, freqs=freqs, rng=0)\njdiag_meg.fit(raw, picks=picks, verbose=True, tol=1e-7, max_iter=10000)\nraw.filter(1, 70)\nsobi_meg = SOBI_mne(p=2000, n_components=n_components, freqs=freqs, rng=0)\nsobi_meg.fit(raw, picks=picks, verbose=True, tol=1e-7, max_iter=2000)\n\nA1 = smica.A\nA2 = smica_meg.A\nplt.matshow(np.abs(np.dot(np.linalg.pinv(A2), A1)))\nA1 = jdiag.A\nA2 = jdiag_meg.A\nplt.matshow(np.abs(np.dot(np.linalg.pinv(A2), A1)))\nA1 = sobi.A\nA2 = sobi_meg.A\nplt.matshow(np.abs(np.dot(np.linalg.pinv(A2), A1)))\nplt.show()"
      ]
    }
  ],
  "metadata": {
    "kernelspec": {
      "display_name": "Python 3",
      "language": "python",
      "name": "python3"
    },
    "language_info": {
      "codemirror_mode": {
        "name": "ipython",
        "version": 3
      },
      "file_extension": ".py",
      "mimetype": "text/x-python",
      "name": "python",
      "nbconvert_exporter": "python",
      "pygments_lexer": "ipython3",
      "version": "3.8.2"
    }
  },
  "nbformat": 4,
  "nbformat_minor": 0
}