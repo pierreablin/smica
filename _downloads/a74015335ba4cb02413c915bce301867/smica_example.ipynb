{
  "cells": [
    {
      "cell_type": "code",
      "execution_count": null,
      "metadata": {
        "collapsed": false
      },
      "outputs": [],
      "source": [
        "%matplotlib inline"
      ]
    },
    {
      "cell_type": "markdown",
      "metadata": {},
      "source": [
        "\n# Simple SMICA Example\n"
      ]
    },
    {
      "cell_type": "code",
      "execution_count": null,
      "metadata": {
        "collapsed": false
      },
      "outputs": [],
      "source": [
        "import numpy as np\n\nfrom smica import SMICA\n\n\nrng = np.random.RandomState(0)\n\n\nn_samples = 1000\nn_channels = 5\n\nX = rng.randn(n_channels, n_samples)\nsfreq = 1\n\nfreqs = np.array([0.1, 0.2, 0.3])\n\n\nsmica = SMICA(n_components=3, freqs=freqs, sfreq=sfreq).fit(X)\n\n\n# So far SMICA saves the input X, might be better to avoid that?\nestimated_sources = smica.compute_sources()"
      ]
    }
  ],
  "metadata": {
    "kernelspec": {
      "display_name": "Python 3",
      "language": "python",
      "name": "python3"
    },
    "language_info": {
      "codemirror_mode": {
        "name": "ipython",
        "version": 3
      },
      "file_extension": ".py",
      "mimetype": "text/x-python",
      "name": "python",
      "nbconvert_exporter": "python",
      "pygments_lexer": "ipython3",
      "version": "3.8.2"
    }
  },
  "nbformat": 4,
  "nbformat_minor": 0
}