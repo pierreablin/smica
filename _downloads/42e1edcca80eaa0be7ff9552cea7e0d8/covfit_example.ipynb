{
  "cells": [
    {
      "cell_type": "code",
      "execution_count": null,
      "metadata": {
        "collapsed": false
      },
      "outputs": [],
      "source": [
        "%matplotlib inline"
      ]
    },
    {
      "cell_type": "markdown",
      "metadata": {},
      "source": [
        "\n# Simple CovarianceFit Example\n"
      ]
    },
    {
      "cell_type": "code",
      "execution_count": null,
      "metadata": {
        "collapsed": false
      },
      "outputs": [],
      "source": [
        "import numpy as np\n\nfrom smica import CovarianceFit\nimport matplotlib.pyplot as plt\n\n\nrng = np.random.RandomState(0)\n\nn_bins = 10\nn_sources = 3\nn_channels = 5\n\nsource_powers = 1 + 2 * rng.rand(n_bins, n_sources)\nnoise_powers = 0.03 * (1 + rng.rand(n_bins, n_channels))\nmixing = rng.randn(n_channels, n_sources)\n\ncovariances = [np.dot(mixing, p[:, None] * mixing.T) + np.diag(n)\n               for p, n in zip(source_powers, noise_powers)]\n\ncovariances = np.array(covariances)\n\ncovfit = CovarianceFit(n_sources, rng=rng).fit(covariances)\n\nestimated_powers = covfit.powers_\nestimated_mixing = covfit.A_\nestimated_noise = covfit.sigmas_\n\nplt.matshow(np.abs(np.linalg.pinv(mixing).dot(estimated_mixing)))\nplt.show()"
      ]
    }
  ],
  "metadata": {
    "kernelspec": {
      "display_name": "Python 3",
      "language": "python",
      "name": "python3"
    },
    "language_info": {
      "codemirror_mode": {
        "name": "ipython",
        "version": 3
      },
      "file_extension": ".py",
      "mimetype": "text/x-python",
      "name": "python",
      "nbconvert_exporter": "python",
      "pygments_lexer": "ipython3",
      "version": "3.8.2"
    }
  },
  "nbformat": 4,
  "nbformat_minor": 0
}