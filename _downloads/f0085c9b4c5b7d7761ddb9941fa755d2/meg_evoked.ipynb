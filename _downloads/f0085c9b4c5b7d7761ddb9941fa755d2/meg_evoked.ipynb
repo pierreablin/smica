{
  "cells": [
    {
      "cell_type": "code",
      "execution_count": null,
      "metadata": {
        "collapsed": false
      },
      "outputs": [],
      "source": [
        "%matplotlib inline"
      ]
    },
    {
      "cell_type": "markdown",
      "metadata": {},
      "source": [
        "\n# XXX\n"
      ]
    },
    {
      "cell_type": "code",
      "execution_count": null,
      "metadata": {
        "collapsed": false
      },
      "outputs": [],
      "source": [
        "# We compare smica with other denoising techniques to obtain clain erps\nimport numpy as np\nimport matplotlib.pyplot as plt\nfrom smica import ICA, transfer_to_ica\nimport mne\nfrom mne.datasets import sample\nfrom mne.preprocessing import ICA as ICA_mne\n\n\nfontsize = 10\nrc = {\n    \"pdf.fonttype\": 42,\n    \"text.usetex\": False,\n    \"font.size\": fontsize,\n    \"xtick.labelsize\": fontsize,\n    \"ytick.labelsize\": fontsize,\n    \"text.latex.preview\": True,\n}\n\n\nplt.rcParams.update(rc)\ndata_path = sample.data_path()\nraw_fname = data_path + \"/MEG/sample/sample_audvis_raw.fif\"\nevent_fname = data_path + \"/MEG/sample/sample_audvis_filt-0-40_raw-eve.fif\"\nraw = mne.io.read_raw_fif(raw_fname, preload=True)\npicks = mne.pick_types(\n    raw.info, meg=\"mag\", eeg=False, eog=False, stim=False, exclude=\"bads\"\n)\nraw.set_eeg_reference(\"average\", projection=True)  # set EEG average reference\nevents = mne.find_events(raw)\ntmin, tmax = -0.2, 0.5\nevent_id = {\n    \"Auditory/Left\": 1,\n    \"Auditory/Right\": 2,\n    \"Visual/Left\": 3,\n    \"Visual/Right\": 4,\n}\n\nreject = dict(grad=4000e-13, mag=4e-12, eog=150e-6)\n# Fit smica\nfreqs = np.linspace(1, 70, 41)\nsmica = ICA(n_components=20, freqs=freqs, rng=0).fit(raw, picks)\n\n\ncolors = [\"k\", \"darkred\", \"forestgreen\", \"royalblue\", \"orange\"]\n\n# Plot the clusters\n\n# smica.plot_extended(sort=False)\n\nbad_sources = [17, 18, 19]\n\nX_filtered = smica.filter(\n    raw._data[picks], bad_sources=bad_sources, method=\"wiener\"\n)\nraw_filtered = raw.copy()\nraw_filtered._data[picks] = X_filtered\n\nraw.filter(1, 70)\nica = ICA_mne(n_components=20, method=\"fastica\", random_state=0)\nica.fit(raw, picks=picks)\n\nsources = ica.get_sources(raw).get_data()\nica_mne = transfer_to_ica(\n    raw, picks, freqs, ica.get_sources(raw).get_data(), ica.get_components()\n)\n\n# ica_mne.plot_extended(sources, sort=False)\nbads_infomax = [0, 1, 2]\nX_ifmx = ica_mne.filter(\n    raw._data[picks], bad_sources=bads_infomax, method=\"pinv\"\n)\nraw_ifmx = raw.copy()\nraw_ifmx._data[picks] = X_ifmx\n# We identify that clusters 6, 7, 8, 9 correspond to noise\n\nmax_raw = raw.copy()\nmax_raw = mne.preprocessing.maxwell_filter(max_raw)\nsetups = []\nsetups.append({\"raw\": raw, \"proj\": False, \"name\": \"Unfiltered\"})\nsetups.append({\"raw\": raw, \"proj\": True, \"name\": \"SSP\"})\nsetups.append({\"raw\": max_raw, \"proj\": False, \"name\": \"Maxwell\"})\nsetups.append({\"raw\": raw_ifmx, \"proj\": False, \"name\": \"Infomax\"})\nsetups.append({\"raw\": raw_filtered, \"proj\": False, \"name\": \"SMICA\"})\n# Epochs the signal and observe the average auditory response\n\nf, axes = plt.subplots(\n    4,\n    3,\n    figsize=(8, 6),\n    gridspec_kw=dict(\n        width_ratios=[2, 1, 0.7],\n        top=0.91,\n        bottom=0.075,\n        left=0.04,\n        right=0.98,\n        hspace=0.215,\n        wspace=0.03,\n    ),\n)\n\nexpes = [\"Auditory/Right\", \"Auditory/Left\", \"Visual/Right\", \"Visual/Left\"]\npeaks = [(160, 200), (150, 200), (155, 210), (190, 260)]\nfor ee, (expe, peak) in enumerate(zip(expes, peaks)):\n    ax = axes[ee]\n    evokeds = []\n    for setup in setups:\n        epochs = mne.Epochs(\n            setup[\"raw\"],\n            events=events,\n            event_id=event_id,\n            tmin=tmin,\n            tmax=tmax,\n            baseline=(None, 0.0),\n            proj=setup[\"proj\"],\n            reject=reject,\n        )\n        evokeds.append(epochs[expe].average(picks=picks))\n\n    # Plot average\n\n    sfreq = smica.sfreq\n    n_samples = evokeds[0].data.shape[1]\n    t_large = np.linspace(-0.2, n_samples / sfreq - 0.2, n_samples)\n    markers = [\",\", \"o\", \"s\", \"P\", \"*\"]\n    markevery = 0.2\n\n    for i, (name, evoked, marker) in enumerate(\n        zip([\"Raw\", \"SSP\", \"Maxwell\", \"Infomax\", \"SMICA\"], evokeds, markers)\n    ):\n        # if ee == 1:\n        #     evoked.plot(titles=name)\n        to_plot = np.sqrt(np.mean(evoked.data ** 2, axis=0))\n        y_ = ax[0].set_ylabel(expe)\n        ax[0].plot(t_large, to_plot, color=colors[i])\n        # marker=marker, markevery=markevery)\n        to_plot_ = np.sqrt(\n            np.mean(evoked.copy().crop(None, 0).data ** 2, axis=0)\n        )\n        # to_plot_ = filter_data(to_plot_, 100, None, 5)\n        t_zoom = np.linspace(-0.2, len(to_plot_) / sfreq - 0.2, len(to_plot_))\n        # ax[1].plot(t_zoom, to_plot_, color=colors[i], alpha=0.5)\n        # avg = np.mean(to_plot_)\n        # ax[1].axhline(avg, color=colors[i], linewidth=2)\n        ax[1].plot(\n            t_zoom, to_plot_, color=colors[i], linestyle=\"--\", alpha=0.3\n        )\n        ax[1].plot(\n            t_zoom,\n            np.mean(to_plot_, axis=0) * np.ones(len(t_zoom)),\n            color=colors[i],\n            marker=marker,\n            markevery=markevery,\n        )\n        # ax[0].set_yscale('log')\n        # sl = range(180, 260)\n        sl = range(peak[0], peak[1])\n        if ee == 3:\n            ax[2].plot(t_large[sl], to_plot[sl], label=name, color=colors[i])\n            # marker=marker, markevery=markevery)\n        else:\n            ax[2].plot(t_large[sl], to_plot[sl], color=colors[i])\n            # marker=marker, markevery=markevery)\n        if ee == 0:\n            ax[0].set_title(\"Total evoked response\")\n            ax[1].set_title(\"Zoom on t<0\")\n            ax[2].set_title(\"Zoom on the peak\")\n        for u in range(3):\n            ax[u].set_yticks([])\n            ax[u].set_yticklabels([])\n            if ee == 3:\n                t_ = ax[u].set_xlabel(\"Time (s.)\")\n\n        # to_plot = np.std(evoked.data, axis=0)\n        # ax[1, 0].plot(t_large, to_plot)\n        # ax[1, 1].plot(t_large[sl], to_plot[sl], label=name)\nl_ = f.legend(loc=\"upper center\", ncol=len(evokeds))\nplt.savefig(\n    \"figures/evoked.pdf\", bbox_inches=\"tight\", bbox_extra_artists=[l_, t_, y_]\n)\nplt.show()"
      ]
    }
  ],
  "metadata": {
    "kernelspec": {
      "display_name": "Python 3",
      "language": "python",
      "name": "python3"
    },
    "language_info": {
      "codemirror_mode": {
        "name": "ipython",
        "version": 3
      },
      "file_extension": ".py",
      "mimetype": "text/x-python",
      "name": "python",
      "nbconvert_exporter": "python",
      "pygments_lexer": "ipython3",
      "version": "3.8.2"
    }
  },
  "nbformat": 4,
  "nbformat_minor": 0
}