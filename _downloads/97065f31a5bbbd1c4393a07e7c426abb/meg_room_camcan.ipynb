{
  "cells": [
    {
      "cell_type": "code",
      "execution_count": null,
      "metadata": {
        "collapsed": false
      },
      "outputs": [],
      "source": [
        "%matplotlib inline"
      ]
    },
    {
      "cell_type": "markdown",
      "metadata": {},
      "source": [
        "\n# XXX\n"
      ]
    },
    {
      "cell_type": "code",
      "execution_count": null,
      "metadata": {
        "collapsed": false
      },
      "outputs": [],
      "source": [
        "# We compare smica with other denoising techniques to obtain clain erps\nimport os\nimport socket\nimport numpy as np\nfrom joblib import Memory\nimport pandas as pd\nimport seaborn as sns\n\nimport mne\nfrom mne.preprocessing import ICA as ICA_mne\n\nfrom smica import ICA\n\n\ndef get_camcan_subject_ids(root_dir, start=None, end=None):\n    \"\"\"\n    Args:\n        root_dir (str):\n\n    Keyword Args:\n        start (None or str):\n        end (None or str):\n\n    Returns:\n        (list):\n    \"\"\"\n    subj_ids = [\n        os.path.basename(f.path) for f in os.scandir(root_dir) if f.is_dir()\n    ]\n    all_subj_ids = [subj for subj in subj_ids if subj.startswith(\"CC\")]\n\n    if start is not None:\n        all_subj_ids = [\n            i for i in all_subj_ids if int(i[2:]) >= int(start[2:])\n        ]\n    if end is not None:\n        all_subj_ids = [i for i in all_subj_ids if int(i[2:]) <= int(end[2:])]\n\n    return all_subj_ids\n\n\ndef get_camcam_recording_fname(root_dir, subject=None, record_type=\"passive\"):\n    \"\"\"\n    Args:\n        root_dir:\n\n    Keyword Args:\n        subject (str, list or None):\n        record_type (str):\n\n    Returns:\n        (list)\n    \"\"\"\n    if subject is None:  # Find all existing subject names in `root_dir`\n        subject = get_camcan_subject_ids(root_dir)\n\n    subject = [subject] if not isinstance(subject, list) else subject\n    if \"drago\" in hostname:\n        fnames = [\n            os.path.join(root_dir, subj, record_type, record_type + \"_raw.fif\")\n            for subj in subject\n        ]\n    else:\n        fnames = [\n            os.path.join(root_dir, subj, record_type + \"_raw.fif\")\n            for subj in subject\n        ]\n    if len(fnames) != len(subject):\n        raise ValueError(\n            \"Found {} files for {} subjects.\".format(len(fnames), len(subject))\n        )\n\n    return fnames\n\n\nhostname = socket.gethostname()\n\n\ndef get_data_paths():\n    \"\"\"Get data paths so the analysis works on different computers.\"\"\"\n    if \"drago\" in hostname:\n        root_dir = (\"/storage/store/data/camcan/camcan47/cc700/meg/pipeline/\"\n                    \"release004/data/aamod_meg_get_fif_00001\")\n        sss_dir = \"/storage/store/work/hjacobba/data/CAMCAN/sss_params\"\n        # save_dir = '/storage/store/work/hjacobba/data/CAMCAN/results'\n        # save_dir = '/storage/inria/hjacobba/mne_data/camcan/results'\n        # coreg_files = '/storage/store/data/camcan-mne/freesurfer/CC110033'\n    else:\n        root_dir = \"./\"\n        sss_dir = \"./\"\n\n    cal_fname = os.path.join(sss_dir, \"sss_cal.dat\")\n    ctc_fname = os.path.join(sss_dir, \"ct_sparse.fif\")\n\n    return root_dir, cal_fname, ctc_fname\n\n\nroot_dir, _, _ = get_data_paths()\n\nsubjects = get_camcan_subject_ids(root_dir, start=None, end=None)\nmemory = Memory(location=\".\", verbose=0)\n\n\nevent_id = {\n    \"Auditory 300Hz\": 6,  # See trigger_codes.txt\n    \"Auditory 600Hz\": 7,\n    \"Auditory 1200Hz\": 8,\n    # 'Visual Checkerboard': 9\n}\n\n\n@memory.cache()\ndef get_explained(subject_no, n_comp, n_bads):\n    subject = subjects[subject_no]\n    raw_fname = root_dir + \"%s/passive_raw.fif\" % subject\n    room_fname = root_dir + \"%s/emptyroom_%s.fif\" % (subject, subject)\n    raw = mne.io.read_raw_fif(raw_fname, preload=True)\n    raw_room = mne.io.read_raw_fif(room_fname, preload=True)\n    raw.filter(0.5, 70)\n    raw_room.filter(1, 70)\n    mne.channels.fix_mag_coil_types(raw.info)\n    mne.channels.fix_mag_coil_types(raw_room.info)\n    picks = mne.pick_types(\n        raw.info, meg=\"mag\", eeg=False, eog=False, stim=False, exclude=\"bads\"\n    )\n\n    # expes = list(event_id.keys())\n    # reject = dict(grad=4000e-13, mag=1e-12, eog=150e-6)\n    # reject = None\n\n    # Fit smica\n    freqs = np.linspace(1, 70, 41)\n    smica = ICA(n_components=n_comp, freqs=freqs, rng=0).fit(\n        raw,\n        picks,\n        tol=1e-9,\n        verbose=100,\n        n_it_min=3000,\n        em_it=3000,\n        n_it_lbfgs=3000,\n    )\n    ica = ICA_mne(n_comp).fit(raw, picks)\n\n    X_room = raw_room.get_data(picks=picks)\n    X_room /= np.linalg.norm(X_room)\n    Ss = smica.compute_sources(X_room)\n    As = smica.A\n    del smica\n    Ai = ica.get_components()\n    Si = np.linalg.pinv(Ai).dot(X_room)\n\n    def greedy_comp(X_room, A, S, n_comp=5):\n        bads = []\n        vals = []\n        Xc = X_room.copy()\n        idxs = np.arange(S.shape[0])\n        for i in range(n_comp):\n            print(i)\n            diffs = [\n                np.linalg.norm(Xc - a[:, None] * s)\n                for a, s in zip(A.T[idxs], S[idxs])\n            ]\n            j = idxs[np.argmin(diffs)]\n            bads.append(j)\n            Xc -= A[:, j][:, None] * S[j]\n            vals.append(np.linalg.norm(Xc))\n            idxs = np.delete(idxs, np.where(idxs == j))\n        return bads, vals\n\n    bads, vals = greedy_comp(X_room, As, Ss, n_bads)\n    badi, vali = greedy_comp(X_room, Ai, Si, n_bads)\n    np.save(\n        \"results/expl_%d_%d_%d.npy\" % (subject_no, n_comp, n_bads),\n        np.array((vals, vali)),\n    )\n    return vals, vali\n\n\nn_subjs = np.arange(2)\nn_bads = 5\nE = np.array([get_explained(subject, 30, 5) for subject in range(2)])\n\ndfs = pd.DataFrame(E[:, 0, :], columns=np.arange(1, n_bads + 1))\ndfs = dfs.stack().reset_index()\ndfs[\"method\"] = \"smica\"\ndfi = pd.DataFrame(E[:, 1, :], columns=np.arange(1, n_bads + 1))\ndfi = dfi.stack().reset_index()\ndfi[\"method\"] = \"infomax\"\ndf = pd.concat([dfs, dfi], axis=0)\ndf.columns = [\"Subject\", \"# removed components\", \"Residual variance\", \"method\"]\nsns.swarmplot(\n    x=\"# removed components\",\n    y=\"Residual variance\",\n    hue=\"method\",\n    dodge=True,\n    data=df,\n)\n# df = pd.concat((dfs, dfi), keys=['smica', 'infomax'])\n# n_s, _, n_b = E.shape\n# f, ax = plt.subplots(2, n_s // 2)\n# for j, (axe, e) in enumerate(zip(ax.ravel(), E)):\n#     axe.plot(e[0], label='smica')\n#     # axe.plot(E[1], label='pca')\n#     axe.plot(e[1], label='infomax')\n#     axe.legend()\n#     axe.set_xlabel('components')\n#     axe.set_ylim([0, 1])\n#     axe.grid(True)\n#     if j % 5 == 0:\n#         axe.set_ylabel('residual variance')\n#\n# plt.show()\n# plt.figure()\n# plt.plot(vals, label='smica')\n# plt.plot(vali, label='infomax')\n# plt.plot(valp, label='pca')\n# plt.legend()\n# plt.show()\n#\n# plt.figure()\n# plt.plot(np.cumsum(1 - diffs[0]), label='smica')\n# plt.plot(np.cumsum(1 - diffs[2]), label='pca')\n# plt.plot(np.cumsum(1 - diffs[1]), label='infomax')\n# plt.legend()\n# plt.show()"
      ]
    }
  ],
  "metadata": {
    "kernelspec": {
      "display_name": "Python 3",
      "language": "python",
      "name": "python3"
    },
    "language_info": {
      "codemirror_mode": {
        "name": "ipython",
        "version": 3
      },
      "file_extension": ".py",
      "mimetype": "text/x-python",
      "name": "python",
      "nbconvert_exporter": "python",
      "pygments_lexer": "ipython3",
      "version": "3.8.2"
    }
  },
  "nbformat": 4,
  "nbformat_minor": 0
}