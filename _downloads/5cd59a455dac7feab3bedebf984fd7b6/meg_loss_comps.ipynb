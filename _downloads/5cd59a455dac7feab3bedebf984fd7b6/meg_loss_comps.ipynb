{
  "cells": [
    {
      "cell_type": "code",
      "execution_count": null,
      "metadata": {
        "collapsed": false
      },
      "outputs": [],
      "source": [
        "%matplotlib inline"
      ]
    },
    {
      "cell_type": "markdown",
      "metadata": {},
      "source": [
        "\n# XXX\n"
      ]
    },
    {
      "cell_type": "code",
      "execution_count": null,
      "metadata": {
        "collapsed": false
      },
      "outputs": [],
      "source": [
        "import numpy as np\nimport matplotlib.pyplot as plt\nfrom smica import ICA\nimport mne\n\nfrom mne.datasets import sample\n\n\ndata_path = sample.data_path()\nraw_fname = data_path + '/MEG/sample/sample_audvis_raw.fif'\nraw = mne.io.read_raw_fif(raw_fname, preload=True)\npicks = mne.pick_types(raw.info, meg=False, eeg=True, eog=False,\n                       stim=False, exclude='bads')\n\n\nn_components = 59\nn_bins = 40\nfreqs = np.linspace(1, 60, n_bins + 1)\nloss_list = []\n\nfor n_component in np.arange(1, n_components):\n    print(n_component)\n    smica = ICA(n_components=n_component, freqs=freqs, rng=0)\n    smica.fit(raw, picks=picks, verbose=2000, tol=1e-7, em_it=10000)\n    loss_list.append(smica.compute_loss())\n\n\nplt.plot(np.arange(1, n_components), loss_list - np.min(loss_list))\nplt.yscale('log')\nplt.xlabel('Number of sources')\nplt.ylabel('Negative log likelihood')\nplt.show()"
      ]
    }
  ],
  "metadata": {
    "kernelspec": {
      "display_name": "Python 3",
      "language": "python",
      "name": "python3"
    },
    "language_info": {
      "codemirror_mode": {
        "name": "ipython",
        "version": 3
      },
      "file_extension": ".py",
      "mimetype": "text/x-python",
      "name": "python",
      "nbconvert_exporter": "python",
      "pygments_lexer": "ipython3",
      "version": "3.8.2"
    }
  },
  "nbformat": 4,
  "nbformat_minor": 0
}