{
  "cells": [
    {
      "cell_type": "code",
      "execution_count": null,
      "metadata": {
        "collapsed": false
      },
      "outputs": [],
      "source": [
        "%matplotlib inline"
      ]
    },
    {
      "cell_type": "markdown",
      "metadata": {},
      "source": [
        "\n# XXX\n"
      ]
    },
    {
      "cell_type": "code",
      "execution_count": null,
      "metadata": {
        "collapsed": false
      },
      "outputs": [],
      "source": [
        "import numpy as np\nimport socket\n\nimport mne\nfrom mne import find_events, fit_dipole\n\n# from mne.datasets.brainstorm import bst_phantom_elekta\nfrom mne.io import read_raw_fif\nfrom smica import ICA, JDIAG_mne\nfrom mne.preprocessing import maxwell_filter\nfrom mne.preprocessing import ICA as ICA_mne\nfrom joblib import Memory\n\n\nlocation = \"./cachedir\"\nmemory = Memory(location, verbose=0)\n\n\ndef get_root_dir():\n    hostname = socket.gethostname()\n    if \"drago\" in hostname:\n        return \"/storage/store/data/phantom_aston/\"\n    else:\n        return \"/home/pierre/work/smica/dataset/eric/\"\n\n\ndef get_raw_filtered_smica(bad_sources, smica, raw, picks, method=\"wiener\"):\n    X_filtered = smica.filter(\n        raw._data[picks], bad_sources=bad_sources, method=method\n    )\n    raw_filtered = raw.copy()\n    raw_filtered._data[picks] = X_filtered\n    return raw_filtered\n\n\ndef get_error(epochs, cov):\n    t_peak = 60e-3  # ~60 MS at largest peak\n    sphere = mne.make_sphere_model(r0=(0.0, 0.0, 0.0), head_radius=None)\n    data = []\n    for ii in [dipole_no]:\n        evoked = epochs[str(ii)].average().crop(t_peak, t_peak)\n        data.append(evoked.data[:, 0])\n    evoked = mne.EvokedArray(np.array(data).T, evoked.info, tmin=0.0)\n    dip, res = fit_dipole(evoked, cov, sphere, n_jobs=1)\n    actual_pos = mne.dipole.get_phantom_dipoles()[0][dipole_no - 1]\n    diffs = 1000 * np.sqrt(np.sum((dip.pos - actual_pos) ** 2, axis=-1))\n    return diffs[0], np.sum(res.data ** 2) / np.sum(evoked.data ** 2)\n\n\ndef get_error_A(a, cov, info):\n    # t_peak = 60e-3  # ~60 MS at largest peak\n    sphere = mne.make_sphere_model(r0=(0.0, 0.0, 0.0), head_radius=None)\n    if a.ndim == 1:\n        data = [\n            a,\n        ]\n    else:\n        data = a.T\n    evoked = mne.EvokedArray(np.array(data).T, info, tmin=0.0)\n    dip, res = fit_dipole(evoked, cov, sphere, n_jobs=1)\n    actual_pos = mne.dipole.get_phantom_dipoles()[0][dipole_no - 1]\n    diffs = 1000 * np.sqrt(np.sum((dip.pos - actual_pos) ** 2, axis=-1))\n    print(res.data.shape, evoked.data.shape)\n    if a.ndim == 1:\n        return diffs, np.sum(res.data ** 2) / np.sum(evoked.data ** 2)\n    return diffs, np.sum(res.data ** 2, axis=0) / np.sum(\n        evoked.data ** 2, axis=0\n    )\n\n\n@memory.cache()\ndef process_one(dipole_no, amp, n_components, crop_idx, crop_len=None):\n    raw_fname = \"%sAmp%d_Dip%d_IASoff.fif\" % (get_root_dir(), amp, dipole_no)\n    raw = read_raw_fif(raw_fname)\n    raw.load_data()\n    raw.crop(5, None)\n    if crop_len is not None:\n        raw.crop(crop_idx * crop_len, (crop_idx + 1) * crop_len)\n    raw.fix_mag_coil_types()\n    events = find_events(raw, \"SYS201\")\n    picks = mne.pick_types(\n        raw.info, meg=\"mag\", eeg=False, eog=False, stim=False, exclude=\"bads\"\n    )\n    n_bins = 40\n\n    freqs = np.linspace(1, 70, n_bins + 1)\n    smica = ICA(n_components, freqs, rng=0).fit(\n        raw,\n        picks=picks,\n        em_it=50000,\n        n_it_lbfgs=200,\n        tol=1e-8,\n        verbose=100,\n        n_it_min=10000,\n    )\n\n    ica = ICA_mne(n_components, method=\"picard\").fit(\n        raw.copy().filter(1, 70), picks=picks\n    )\n    jdiag = JDIAG_mne(n_components, freqs, rng=0).fit(raw, picks=picks)\n\n    tmin, tmax = -0.1, 0.1\n    event_id = [dipole_no]\n    # pows = np.linalg.norm(smica.A, axis=0) *\n    #                       np.linalg.norm(smica.powers, axis=0) ** .5\n    raw_max = raw.copy().filter(1, 40)\n    raw_max = maxwell_filter(raw_max, origin=(0.0, 0.0, 0.0))\n    epochs = mne.Epochs(\n        raw_max,\n        events,\n        event_id,\n        tmin,\n        tmax,\n        baseline=(None, -0.01),\n        preload=True,\n        picks=picks,\n    )\n    cov = mne.compute_covariance(epochs, tmax=0)\n    e1 = get_error(epochs, cov)\n    e_2 = get_error_A(smica.A, cov, epochs.info)\n    good = np.argmin(e_2[0])\n    e2 = [e_2[0][good], e_2[1][good]]\n\n    e_3 = get_error_A(jdiag.A, cov, epochs.info)\n    good = np.argmin(e_3[0])\n    e3 = [e_3[0][good], e_3[1][good]]\n\n    e_4 = get_error_A(ica.get_components(), cov, epochs.info)\n    good = np.argmin(e_4[0])\n    e4 = [e_4[0][good], e_4[1][good]]\n    crop_str = crop_len if crop_len is not None else 0\n    np.save(\n        \"results/phantom_%d_%d_%d_%d_%d.npy\"\n        % (dipole_no, amp, n_components, crop_idx, crop_str),\n        np.array([e1, e2, e3, e4]),\n    )\n    print(e1, e2, e3, e4)\n    return e1, e2, e3, e4\n\n\nn_components = 30\ndipoles = [5, 8]\namp = 200\ndipole_no = 8\ncrop_idx = 0\ne1, e2, e3, e4 = process_one(dipole_no, amp, n_components, crop_idx)"
      ]
    }
  ],
  "metadata": {
    "kernelspec": {
      "display_name": "Python 3",
      "language": "python",
      "name": "python3"
    },
    "language_info": {
      "codemirror_mode": {
        "name": "ipython",
        "version": 3
      },
      "file_extension": ".py",
      "mimetype": "text/x-python",
      "name": "python",
      "nbconvert_exporter": "python",
      "pygments_lexer": "ipython3",
      "version": "3.8.2"
    }
  },
  "nbformat": 4,
  "nbformat_minor": 0
}